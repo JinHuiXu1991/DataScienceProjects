{
 "cells": [
  {
   "cell_type": "code",
   "execution_count": 1,
   "metadata": {},
   "outputs": [
    {
     "name": "stdout",
     "output_type": "stream",
     "text": [
      "pygame 2.0.3 (SDL 2.0.16, Python 3.7.4)\n",
      "Hello from the pygame community. https://www.pygame.org/contribute.html\n"
     ]
    }
   ],
   "source": [
    "import numpy as np\n",
    "import random\n",
    "\n",
    "import torch\n",
    "import torch.nn as nn\n",
    "import torch.optim as optim\n",
    "import copy\n",
    "import cv2\n",
    "\n",
    "import sys\n",
    "\n",
    "import os\n",
    "\n",
    "from game.flappy_bird import GameState\n",
    "import math\n",
    "from matplotlib.pyplot import imshow"
   ]
  },
  {
   "cell_type": "code",
   "execution_count": 2,
   "metadata": {},
   "outputs": [],
   "source": [
    "images=[]\n",
    "processed_images=[]\n",
    "ACTION_NUM = 2\n",
    "\n",
    "class DQN(nn.Module):\n",
    "\n",
    "    def __init__(self):\n",
    "        '''\n",
    "        output size: (((W - K + 2P)/S) + 1)\n",
    "        Here W = Input size\n",
    "        K = Filter size\n",
    "        S = Stride\n",
    "        P = Padding \n",
    "        '''\n",
    "        super(DQN, self).__init__()\n",
    "        self.conv1 = nn.Sequential(nn.Conv2d(4, 32, kernel_size=8, stride=4), nn.ReLU(inplace=True))\n",
    "        self.conv2 = nn.Sequential(nn.Conv2d(32, 64, kernel_size=4, stride=2), nn.ReLU(inplace=True))\n",
    "        self.conv3 = nn.Sequential(nn.Conv2d(64, 64, kernel_size=3, stride=1), nn.ReLU(inplace=True))\n",
    "        self.fc1 = nn.Sequential(nn.Linear(7 * 7 * 64, 512), nn.ReLU(inplace=True))\n",
    "        self.fc2 = nn.Linear(512, 2)\n",
    "        \n",
    "    def forward(self, x):\n",
    "        out = self.conv1(x)\n",
    "        out = self.conv2(out)\n",
    "        out = self.conv3(out)\n",
    "        out = out.view(out.size(0), -1)\n",
    "        out = self.fc1(out)\n",
    "        out = self.fc2(out)\n",
    "        return out\n",
    "    \n",
    "def preprocess_image(image):\n",
    "    device = torch.device(\"cuda\") if torch.cuda.is_available() else torch.device(\"cpu\")\n",
    "    image = cv2.rotate(image, cv2.ROTATE_90_CLOCKWISE)\n",
    "    image = cv2.flip(image,1)\n",
    "    \n",
    "    # remove ground\n",
    "    image = image[:400,:]\n",
    "    \n",
    "    # resize image\n",
    "    image = cv2.resize(image, (84, 84))\n",
    "    \n",
    "    # convert image to grayscale\n",
    "    image = cv2.cvtColor(image,cv2.COLOR_BGR2GRAY)\n",
    "    retval, image = cv2.threshold(image, 158, 255, cv2.THRESH_BINARY)\n",
    "    \n",
    "    # convert image data to desire tensor shape\n",
    "    image = torch.FloatTensor(image)\n",
    "    image = image.unsqueeze(0)\n",
    "    image = image.to(device)\n",
    "    \n",
    "    return image\n",
    "\n",
    "class MasterBird:\n",
    "    def __init__(self, action_num, model):\n",
    "        device = torch.device(\"cuda\") if torch.cuda.is_available() else torch.device(\"cpu\")\n",
    "        self.model = model\n",
    "        self.model = self.model.to(device)\n",
    "        self.action_num = action_num\n",
    "\n",
    "    # demo predict function\n",
    "    def play_action(self, state):\n",
    "        # get q values for the state from DQN model\n",
    "        q_values = self.model(state)[0]\n",
    "        action_index = torch.argmax(q_values).cpu().numpy().tolist()\n",
    "        return action_index, q_values\n",
    "    \n",
    "def GetSomeStateImages(model):\n",
    "    # instantiate game\n",
    "    game_state = GameState()\n",
    "    masterBird = MasterBird(ACTION_NUM, model)\n",
    "\n",
    "    # initial action is do nothing\n",
    "    action = torch.zeros([ACTION_NUM], dtype=torch.float32)\n",
    "    action[0] = 1\n",
    "    state_image, reward, terminal, state_score = game_state.frame_step(action)\n",
    "    image = preprocess_image(state_image)\n",
    "    state = torch.cat((image, image, image, image)).unsqueeze(0)\n",
    "\n",
    "    for i in range(200):\n",
    "        action_idx, q_values = masterBird.play_action(state)\n",
    "        action = torch.zeros([ACTION_NUM], dtype=torch.float32)\n",
    "        action[action_idx] = 1\n",
    "        \n",
    "        # get next state\n",
    "        state_image_1, reward, terminal, state_score = game_state.frame_step(action)\n",
    "        images.append(state_image_1)\n",
    "        image_1 = preprocess_image(state_image_1)\n",
    "        processed_images.append(image_1)\n",
    "        state_1 = torch.cat((state.squeeze(0)[1:, :, :], image_1)).unsqueeze(0)\n",
    "        \n",
    "        # set state to be state_1\n",
    "        state = state_1"
   ]
  },
  {
   "cell_type": "code",
   "execution_count": 3,
   "metadata": {},
   "outputs": [],
   "source": [
    "def rotate_image(image):\n",
    "    device = torch.device(\"cuda\") if torch.cuda.is_available() else torch.device(\"cpu\")\n",
    "    image = cv2.rotate(image, cv2.ROTATE_90_CLOCKWISE)\n",
    "    image = cv2.flip(image,1)\n",
    "    return image\n",
    "\n",
    "def preprocess_image_test(image):\n",
    "    device = torch.device(\"cuda\") if torch.cuda.is_available() else torch.device(\"cpu\")\n",
    "    image = cv2.rotate(image, cv2.ROTATE_90_CLOCKWISE)\n",
    "    image = cv2.flip(image,1)\n",
    "    \n",
    "    # remove ground\n",
    "    image = image[:400,:]\n",
    "    \n",
    "    # resize image\n",
    "    image = cv2.resize(image, (84, 84))\n",
    "    \n",
    "    # convert image to grayscale\n",
    "    image = cv2.cvtColor(image,cv2.COLOR_BGR2GRAY)\n",
    "    retval, image = cv2.threshold(image, 158, 255, cv2.THRESH_BINARY)\n",
    "\n",
    "    return image\n"
   ]
  },
  {
   "cell_type": "code",
   "execution_count": 4,
   "metadata": {},
   "outputs": [],
   "source": [
    "device = torch.device(\"cuda\") if torch.cuda.is_available() else torch.device(\"cpu\")\n",
    "model = torch.load('pretrained_model/color_ez_model_4000000_2021-11-23_181113.pth', map_location='cpu').eval()\n",
    "model.to(device)\n",
    "\n",
    "GetSomeStateImages(model)"
   ]
  },
  {
   "cell_type": "code",
   "execution_count": 5,
   "metadata": {},
   "outputs": [
    {
     "data": {
      "text/plain": [
       "<matplotlib.image.AxesImage at 0x2648843dcc8>"
      ]
     },
     "execution_count": 5,
     "metadata": {},
     "output_type": "execute_result"
    },
    {
     "data": {
      "image/png": "[encoded data removed]",
      "text/plain": [
       "<Figure size 432x288 with 1 Axes>"
      ]
     },
     "metadata": {
      "needs_background": "light"
     },
     "output_type": "display_data"
    }
   ],
   "source": [
    "image_1 = rotate_image(images[165])\n",
    "imshow(image_1)"
   ]
  },
  {
   "cell_type": "code",
   "execution_count": 6,
   "metadata": {},
   "outputs": [
    {
     "data": {
      "text/plain": [
       "<matplotlib.image.AxesImage at 0x2648fe68fc8>"
      ]
     },
     "execution_count": 6,
     "metadata": {},
     "output_type": "execute_result"
    },
    {
     "data": {
      "image/png": "[encoded data removed]",
      "text/plain": [
       "<Figure size 432x288 with 1 Axes>"
      ]
     },
     "metadata": {
      "needs_background": "light"
     },
     "output_type": "display_data"
    }
   ],
   "source": [
    "image_1_processed = preprocess_image_test(images[165])\n",
    "imshow(image_1_processed, cmap='gray')"
   ]
  },
  {
   "cell_type": "code",
   "execution_count": 23,
   "metadata": {},
   "outputs": [],
   "source": [
    "def preprocess_image_test2(image):\n",
    "    device = torch.device(\"cuda\") if torch.cuda.is_available() else torch.device(\"cpu\")\n",
    "    image = cv2.rotate(image, cv2.ROTATE_90_CLOCKWISE)\n",
    "    image = cv2.flip(image,1)\n",
    "    \n",
    "    # remove ground\n",
    "    image = image[:400,:]\n",
    "    \n",
    "    # resize image\n",
    "    image = cv2.resize(image, (84, 84))\n",
    "\n",
    "    image = cv2.cvtColor(image,cv2.COLOR_BGR2GRAY)\n",
    "    return image"
   ]
  },
  {
   "cell_type": "code",
   "execution_count": 25,
   "metadata": {},
   "outputs": [
    {
     "data": {
      "text/plain": [
       "<matplotlib.image.AxesImage at 0x26490606308>"
      ]
     },
     "execution_count": 25,
     "metadata": {},
     "output_type": "execute_result"
    },
    {
     "data": {
      "image/png": "[encoded data removed]",
      "text/plain": [
       "<Figure size 432x288 with 1 Axes>"
      ]
     },
     "metadata": {
      "needs_background": "light"
     },
     "output_type": "display_data"
    }
   ],
   "source": [
    "image_1_processed2 = preprocess_image_test2(images[165])\n",
    "imshow(image_1_processed2, cmap='gray')"
   ]
  },
  {
   "cell_type": "code",
   "execution_count": null,
   "metadata": {},
   "outputs": [],
   "source": []
  }
 ],
 "metadata": {
  "kernelspec": {
   "display_name": "Python 3",
   "language": "python",
   "name": "python3"
  },
  "language_info": {
   "codemirror_mode": {
    "name": "ipython",
    "version": 3
   },
   "file_extension": ".py",
   "mimetype": "text/x-python",
   "name": "python",
   "nbconvert_exporter": "python",
   "pygments_lexer": "ipython3",
   "version": "3.7.4"
  }
 },
 "nbformat": 4,
 "nbformat_minor": 4
}
